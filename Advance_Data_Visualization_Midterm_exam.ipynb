{
  "nbformat": 4,
  "nbformat_minor": 0,
  "metadata": {
    "colab": {
      "provenance": [],
      "authorship_tag": "ABX9TyOtlXO/t2p6fpTgzZLek4VY",
      "include_colab_link": true
    },
    "kernelspec": {
      "name": "python3",
      "display_name": "Python 3"
    },
    "language_info": {
      "name": "python"
    }
  },
  "cells": [
    {
      "cell_type": "markdown",
      "metadata": {
        "id": "view-in-github",
        "colab_type": "text"
      },
      "source": [
        "<a href=\"https://colab.research.google.com/github/pammyyAnn/Advance-Data-Visualization-Midterm-exam/blob/main/Advance_Data_Visualization_Midterm_exam.ipynb\" target=\"_parent\"><img src=\"https://colab.research.google.com/assets/colab-badge.svg\" alt=\"Open In Colab\"/></a>"
      ]
    },
    {
      "cell_type": "code",
      "execution_count": 3,
      "metadata": {
        "colab": {
          "base_uri": "https://localhost:8080/"
        },
        "id": "Ws6MWa-z8CdQ",
        "outputId": "effcfc9c-e088-4841-8ccf-b7dc1bb02a71"
      },
      "outputs": [
        {
          "output_type": "stream",
          "name": "stdout",
          "text": [
            "what is your name? Pamela Ann\n",
            "Hello Pamela ann\n",
            "How old are you?21\n",
            "You are 21 years old\n"
          ]
        }
      ],
      "source": [
        "name = input(\"what is your name? \")\n",
        "print(\"Hello\", name.capitalize())\n",
        "age = input(\"How old are you?\")\n",
        "print(\"You are\", age, \"years old\")"
      ]
    },
    {
      "cell_type": "code",
      "source": [
        "s = \"pizza\"\n",
        "t = s.capitalize()\n",
        "print (t)"
      ],
      "metadata": {
        "colab": {
          "base_uri": "https://localhost:8080/"
        },
        "id": "w1YZQnCK-UHP",
        "outputId": "463c3035-c42c-4dce-be51-ac21f6d29589"
      },
      "execution_count": 5,
      "outputs": [
        {
          "output_type": "stream",
          "name": "stdout",
          "text": [
            "Pizza\n"
          ]
        }
      ]
    },
    {
      "cell_type": "code",
      "source": [
        "s = \"pizza\"\n",
        "t = s.upper()\n",
        "print(t)"
      ],
      "metadata": {
        "colab": {
          "base_uri": "https://localhost:8080/"
        },
        "id": "EFECoXbd-lKa",
        "outputId": "24db9dd5-3229-412c-94ae-894ef1e556d0"
      },
      "execution_count": 6,
      "outputs": [
        {
          "output_type": "stream",
          "name": "stdout",
          "text": [
            "PIZZA\n"
          ]
        }
      ]
    },
    {
      "cell_type": "code",
      "source": [
        "s = \"pizza\"\n",
        "t = s.lower()\n",
        "print(t)"
      ],
      "metadata": {
        "colab": {
          "base_uri": "https://localhost:8080/"
        },
        "id": "GLRmzZEF-dpD",
        "outputId": "711f5878-bd7b-47fd-a52f-76f61d2c9918"
      },
      "execution_count": 7,
      "outputs": [
        {
          "output_type": "stream",
          "name": "stdout",
          "text": [
            "pizza\n"
          ]
        }
      ]
    },
    {
      "cell_type": "code",
      "source": [
        "name = \"Read\"\n",
        "name.replace('Read','Peal')"
      ],
      "metadata": {
        "colab": {
          "base_uri": "https://localhost:8080/",
          "height": 35
        },
        "id": "-Du3aQJg_Gie",
        "outputId": "d37ef6f4-760f-4217-a7cf-ead0c030b2a6"
      },
      "execution_count": 10,
      "outputs": [
        {
          "output_type": "execute_result",
          "data": {
            "text/plain": [
              "'Peal'"
            ],
            "application/vnd.google.colaboratory.intrinsic+json": {
              "type": "string"
            }
          },
          "metadata": {},
          "execution_count": 10
        }
      ]
    },
    {
      "cell_type": "code",
      "source": [
        "a = 2\n",
        "b = 3\n",
        "c = 2.3\n",
        "d = True\n",
        "type(a), type(b), type(c), type(d)"
      ],
      "metadata": {
        "colab": {
          "base_uri": "https://localhost:8080/"
        },
        "id": "M4DpvQpK_oxX",
        "outputId": "a7d26d4d-abd7-4cb4-b6b5-39f054b04a38"
      },
      "execution_count": 60,
      "outputs": [
        {
          "output_type": "execute_result",
          "data": {
            "text/plain": [
              "(int, int, float, bool)"
            ]
          },
          "metadata": {},
          "execution_count": 60
        }
      ]
    },
    {
      "cell_type": "code",
      "source": [
        "name = input(\"What is your name?\")\n",
        "print(f\"Hello {name} !\")\n",
        "birth_year = input (\"What is your birth year?\")\n",
        "birth_year = int(birth_year)\n",
        "print(f\"You are {2023 - birth_year} years odl!\")"
      ],
      "metadata": {
        "colab": {
          "base_uri": "https://localhost:8080/"
        },
        "id": "d1Hvp4v1BYXE",
        "outputId": "645979a0-7462-4ba5-db4c-91840e594c7b"
      },
      "execution_count": 15,
      "outputs": [
        {
          "output_type": "stream",
          "name": "stdout",
          "text": [
            "What is your name?Pamela Ann\n",
            "Hello Pamela Ann !\n",
            "What is your birth year?2001\n",
            "You are 22 years odl!\n"
          ]
        }
      ]
    },
    {
      "cell_type": "code",
      "source": [
        "choice = int(input (\"Enteryour choice:\"))\n",
        "print (\"Enter two numbers: \")\n",
        "num1 = float (input())\n",
        "num2 = float (input())"
      ],
      "metadata": {
        "colab": {
          "base_uri": "https://localhost:8080/"
        },
        "id": "rtZcRi9jEsoi",
        "outputId": "6fd4ecca-cbe5-4640-e02d-488b2bd0ca3a"
      },
      "execution_count": 55,
      "outputs": [
        {
          "name": "stdout",
          "output_type": "stream",
          "text": [
            "Enteryour choice:10\n",
            "Enter two numbers: \n",
            "4\n",
            "5\n"
          ]
        }
      ]
    },
    {
      "cell_type": "code",
      "source": [
        "if choice == 1:\n",
        "  res = num1 + num2\n",
        "  print(\"Result = \", res)\n",
        "elif choice == 2:\n",
        "  res = num1 - num2\n",
        "  print(\"Result = \", res)\n",
        "elif choice == 3:\n",
        "    res = num1 * num2\n",
        "    print(\"Result = \", res)\n",
        "elif choice == 4: \n",
        "  res = num1 / num2 \n",
        "  print(\"Result = \", res)\n",
        "elif choice == 5:\n",
        "  exit()\n",
        "else:\n",
        "  print(\"Wrong output..!!\")\n"
      ],
      "metadata": {
        "colab": {
          "base_uri": "https://localhost:8080/"
        },
        "id": "VKpSYrJGT0xT",
        "outputId": "a22f5b55-fe86-46bf-8ca6-73d343a1e781"
      },
      "execution_count": 58,
      "outputs": [
        {
          "output_type": "stream",
          "name": "stdout",
          "text": [
            "Wrong output..!!\n"
          ]
        }
      ]
    },
    {
      "cell_type": "code",
      "source": [
        "thislist = [\"apple\", \"banana\",\"cherry\"]\n",
        "print(\"thislist['apple']\")"
      ],
      "metadata": {
        "colab": {
          "base_uri": "https://localhost:8080/"
        },
        "id": "l6hBZMUKIcDx",
        "outputId": "fcb84a19-1e5d-402c-df01-2e0f3a964d95"
      },
      "execution_count": 18,
      "outputs": [
        {
          "output_type": "stream",
          "name": "stdout",
          "text": [
            "thislist['apple']\n"
          ]
        }
      ]
    },
    {
      "cell_type": "code",
      "source": [
        "thislist = [\"apple\", \"blackcurrant\", \"cherry\"]\n",
        "thislist[1] = \"blackcurrant\"\n",
        "print(thislist)\n"
      ],
      "metadata": {
        "colab": {
          "base_uri": "https://localhost:8080/"
        },
        "id": "bfe1A6VwJ3vQ",
        "outputId": "1dee1e60-a5ab-4e4e-9055-0a61440fd5c8"
      },
      "execution_count": 19,
      "outputs": [
        {
          "output_type": "stream",
          "name": "stdout",
          "text": [
            "['apple', 'blackcurrant', 'cherry']\n"
          ]
        }
      ]
    },
    {
      "cell_type": "code",
      "source": [
        "rhislist = [\"applea\", \"banana\", \"cherry\"]\n",
        "thislist.append(\"orange\")\n",
        "print (thislist)"
      ],
      "metadata": {
        "colab": {
          "base_uri": "https://localhost:8080/"
        },
        "id": "NcRxqVdFK6sS",
        "outputId": "61a2d3fc-c966-47f2-c8e1-f5a2b18c720f"
      },
      "execution_count": 20,
      "outputs": [
        {
          "output_type": "stream",
          "name": "stdout",
          "text": [
            "['apple', 'blackcurrant', 'cherry', 'orange']\n"
          ]
        }
      ]
    },
    {
      "cell_type": "code",
      "source": [
        "x = [7,4,3,2,5]\n",
        "x.remove(5)\n",
        "print(x)"
      ],
      "metadata": {
        "colab": {
          "base_uri": "https://localhost:8080/"
        },
        "id": "7X54XkYHLL5u",
        "outputId": "0e3fd0aa-885d-4be3-81b0-8bc30ff1ff17"
      },
      "execution_count": 21,
      "outputs": [
        {
          "output_type": "stream",
          "name": "stdout",
          "text": [
            "[7, 4, 3, 2]\n"
          ]
        }
      ]
    },
    {
      "cell_type": "code",
      "source": [
        "z = [7,5,3,3]\n",
        "print(z.pop(1))\n",
        "print(z)"
      ],
      "metadata": {
        "colab": {
          "base_uri": "https://localhost:8080/"
        },
        "id": "r9OtsoFMLqzY",
        "outputId": "166dd8eb-36e1-4466-b6e3-44540e91b1ae"
      },
      "execution_count": 22,
      "outputs": [
        {
          "output_type": "stream",
          "name": "stdout",
          "text": [
            "5\n",
            "[7, 3, 3]\n"
          ]
        }
      ]
    },
    {
      "cell_type": "code",
      "source": [
        "x = [1,2,3]\n",
        "x.extend([4,5])\n",
        "print(x)"
      ],
      "metadata": {
        "colab": {
          "base_uri": "https://localhost:8080/"
        },
        "id": "tJkfhN8PL_V9",
        "outputId": "d3e2b4bc-eb27-40d7-ad7e-2812fe07234f"
      },
      "execution_count": 23,
      "outputs": [
        {
          "output_type": "stream",
          "name": "stdout",
          "text": [
            "[1, 2, 3, 4, 5]\n"
          ]
        }
      ]
    },
    {
      "cell_type": "code",
      "source": [
        "z = [1,2,3,4,5]\n",
        "z.insert(4,[1,2])\n",
        "print(z)"
      ],
      "metadata": {
        "colab": {
          "base_uri": "https://localhost:8080/"
        },
        "id": "ezzJN2nEMKLq",
        "outputId": "68f64dfe-579b-4923-9f85-0b32259c5572"
      },
      "execution_count": 24,
      "outputs": [
        {
          "output_type": "stream",
          "name": "stdout",
          "text": [
            "[1, 2, 3, 4, [1, 2], 5]\n"
          ]
        }
      ]
    },
    {
      "cell_type": "code",
      "source": [
        "import numpy\n",
        "lst = [1,7,0,6,2,5,6]\n",
        "arr = numpy.asarray(lst)\n",
        "(\"numpy: \", arr)\n",
        "arr1 = numpy.asarray(arr)\n",
        "print(\"arr: \", arr1)\n",
        "arr1[3] = 23\n",
        "print(\"lst: \", lst)\n",
        "print(\"arr1: \", arr1)"
      ],
      "metadata": {
        "colab": {
          "base_uri": "https://localhost:8080/"
        },
        "id": "S1x6pdtFMToT",
        "outputId": "def3b8ad-505c-4a1a-f7cc-a1f5010cef2a"
      },
      "execution_count": 30,
      "outputs": [
        {
          "output_type": "stream",
          "name": "stdout",
          "text": [
            "arr:  [1 7 0 6 2 5 6]\n",
            "lst:  [1, 7, 0, 6, 2, 5, 6]\n",
            "arr1:  [ 1  7  0 23  2  5  6]\n"
          ]
        }
      ]
    }
  ]
}